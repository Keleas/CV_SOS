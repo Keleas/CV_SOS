{
 "cells": [
  {
   "cell_type": "markdown",
   "metadata": {},
   "source": [
    "# Домашняя работа №3\n",
    "\n",
    "[Форма](https://forms.gle/oNLR6oQrSKGMHnhA6) для отправки решения.\n",
    "\n",
    "### ДЕДЛАЙНЫ:\n",
    "\n",
    "Задача №1 - 21 июля 23:59\n",
    "\n",
    "Задача №2 - 23 июля 23:59\n",
    "\n",
    "Укажите в названии файла: \n",
    "1. имя и фамилия\n",
    "2. номер домашки\n",
    "3. номер задания\n",
    "\n",
    "(NAME_LES_TASK.ipynb)"
   ]
  },
  {
   "cell_type": "markdown",
   "metadata": {},
   "source": [
    "### Задача №1 - Маска корабля\n",
    "\n",
    "В продолжении темы предыдущей задачи. Допустим, нам удалось понять, что на рассматриваемом изображении находится море. Значит, есть шанс на то, что можно найти корабли на картинке. \n",
    "\n",
    "Ваша задача - написать программу, которая отобразит маску* одного или нескольких кораблей на входном изображении. В приложении можно найти реальные спутниковые снимки кораблей. Подобные примеры изображений присутствуют в тесте.\n",
    "\n",
    "*Маска - геометрическое место точек какого-либо предмета на изображении. Обычно задается функцией $I(x,y)$.\n",
    "\n",
    "$I(x,y) = {\\begin{cases}0, &  (x,y) \\notin object \\\\ 1, & (x,y)\\in object \\end{cases}}$\n",
    "\n",
    "<table><tr>\n",
    "    <td> <img src=\"https://i.ibb.co/HTxy4KY/test_image_01.jpg\" alt=\"Drawing\" style=\"width: 200px;\"/> </td>\n",
    "    <td> <img src=\"https://i.ibb.co/9wDjMSg/test_image_06.jpg\" alt=\"Drawing\" style=\"width: 200px;\"/> </td>\n",
    "    <td> <img src=\"https://i.ibb.co/yWCd3QQ/test_image_08.jpg\" alt=\"Drawing\" style=\"width: 200px;\"/> </td>\n",
    "</tr></table>"
   ]
  },
  {
   "cell_type": "code",
   "execution_count": null,
   "metadata": {},
   "outputs": [],
   "source": [
    "# Ваш код"
   ]
  },
  {
   "cell_type": "markdown",
   "metadata": {},
   "source": [
    "### Задача №2 - Хвост кита\n",
    "\n",
    "Не так давно на kaggle было соревнование по классификации горбатых китов по снимках их хвостов. Одним из приемов для улучшения работы нейронной сети было выделение маски хвоста. Затем по этой маске вырезался хвост на исходном изображенииа, нормировался, отображался на черный фон и подавался нейронной сети на вход. \n",
    "\n",
    "Ваша задача - написать программу, которая совершут предобработку картинки, писанную выше. Т.е. найти маску хвоста, по маске вырезать из исходного изображения хвост, нормировать хвост на заддный размер и поместить в центр пустой картинки. \n",
    "\n",
    "Изображения хвостов находятся в приложении к этому занятию.\n",
    "\n",
    "<table><tr>\n",
    "    <td> <img src=\"https://i.ibb.co/fkScTsg/test_image_01.jpg\" alt=\"Drawing\" style=\"width: 200px;\"/> </td>\n",
    "    <td> <img src=\"https://i.ibb.co/q7PQRtZ/test_image_03.jpg\" alt=\"Drawing\" style=\"width: 200px;\"/> </td>\n",
    "    <td> <img src=\"https://i.ibb.co/StTqhST/test_image_08.jpg\" alt=\"Drawing\" style=\"width: 200px;\"/> </td>\n",
    "</tr></table>"
   ]
  },
  {
   "cell_type": "code",
   "execution_count": null,
   "metadata": {},
   "outputs": [],
   "source": [
    "# Ваш код"
   ]
  }
 ],
 "metadata": {
  "kernelspec": {
   "display_name": "Python 3",
   "language": "python",
   "name": "python3"
  },
  "language_info": {
   "codemirror_mode": {
    "name": "ipython",
    "version": 3
   },
   "file_extension": ".py",
   "mimetype": "text/x-python",
   "name": "python",
   "nbconvert_exporter": "python",
   "pygments_lexer": "ipython3",
   "version": "3.7.4"
  }
 },
 "nbformat": 4,
 "nbformat_minor": 2
}
