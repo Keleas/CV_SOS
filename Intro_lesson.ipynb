{
 "cells": [
  {
   "cell_type": "markdown",
   "metadata": {},
   "source": [
    "# Вводное самостоятельное занятие секции «Компьютерное зрение» на ЗОШ МФТИ  "
   ]
  },
  {
   "cell_type": "markdown",
   "metadata": {},
   "source": [
    "Для начала давайте поговорим о том, что же такое компьютерное зрение (иначе техническое зрение) — теория и технология создания машин, которые могут производить обнаружение, отслеживание и классификацию объектов.\n",
    "\n",
    "Как научная дисциплина, она достаточно сложна, так как требует не только глубоких знаний в математике, но и умение программировать. \n",
    "\n",
    "Подробнее Вы можете почитать например [тут](https://ru.wikipedia.org/wiki/Компьютерное_зрение).\n",
    "Мы подготовили этот ноутбук, для того чтобы:\n",
    "1. Во время смены, вы смогли свободно писать на языке программирования Python\n",
    "2. Вы повторили и дополнили свою математическую базу.\n",
    "3. Мы сделали повторение непонятных тем. \n",
    "\n",
    "Авторов лучших решений ждут призы!\n",
    "\n",
    "### Свое решение нужно отравить в [форму](https://forms.gle/F2tMVBTBczFv1k9J7)\n",
    "\n",
    "## <span style=\"color:red\">Дедлайн: 03.01.2020</span>"
   ]
  },
  {
   "cell_type": "markdown",
   "metadata": {},
   "source": [
    "В этом занятии мы рассмотрим несколько основных направлений, которые будут встречаться на протяжении всей смены в нашей секции. Для того, чтобы понимать суть происходящего, вам предстоит узнать или вспомнить несколько тем и выполнить соответствующие им задания.\n",
    "\n",
    "Каждое упражнение будет оцениваться. Часть из них рассчитана на самостоятельное изучение материала. Поэтому не пугайтесь, если некоторые темы для вас будут незнакомы.\n",
    "\n",
    "__В этом занятии будет:__\n",
    "\n",
    "__1. [Производная](#1.-Производная)__\n",
    "\n",
    "__2. [Численные Методы](#2.-Численные-Методы)__\n",
    "\n",
    "__3. [Векторы и Матрицы](#3.-Векторы-и-Матрицы)__\n",
    "\n",
    "__4. [Задачки](#4.-Задачки)__"
   ]
  },
  {
   "cell_type": "markdown",
   "metadata": {},
   "source": [
    "*Не переживайте, если у Вас что-то не выходит. Даже если Вы не все решили, то все равно отправляйте задание — нам важно понимать на чем сделать упор в начале смены. Да, и никто не отменял того, что вы можете побороться за ништяки, которые достанутся тем, кто наберет наибольшее количество баллов.*\n",
    "\n",
    "*Удачи! Увидимся на смене!*\n",
    "\n",
    "__Методисты секции «Компьютерное зрение» ЗОШ МФТИ__"
   ]
  },
  {
   "cell_type": "markdown",
   "metadata": {},
   "source": [
    "# 1. Производная"
   ]
  },
  {
   "cell_type": "markdown",
   "metadata": {},
   "source": [
    "## Определение производной"
   ]
  },
  {
   "cell_type": "markdown",
   "metadata": {},
   "source": [
    "Рассмотрим функцию $y = f(x)$. Напомним, что x называется аргументом данной функции. Отметим на оси $X$ некоторое значение аргумента $x$, а на оси $Y$ — соответствующее значение функции $f(x)$ (рис. 1).\n",
    "\n",
    "<img src=\"https://b.radikal.ru/b29/1905/35/a266d34f5ae0.png\" width=\"300\">\n",
    "\n",
    "Дадим аргументу x некоторое приращение, обозначаемое $\\Delta x$. Попадём в точку $x + \\Delta x$. Обозначим её на рисунке вместе с соответствующим значением функции $f(x + \\Delta x)$. Величина $$\\Delta f = f(x + \\Delta x) − f(x)$$ называется приращением функции, которое отвечает данному приращению аргумента $\\Delta x$.\n",
    "\n",
    "__Определение.__ Производная $f'(x)$ функции $f(x)$ в точке $x_0$ — это предел отношения приращения функции к приращению аргумента, когда приращение аргумента стремится к нулю:\n",
    "\n",
    "$${\\displaystyle f'(x_{0})=\\lim \\limits _{x\\to x_{0}}{\\frac {f(x)-f(x_{0})}{x-x_{0}}}=\\lim _{\\Delta x\\to 0}{\\frac {f(x_{0}+\\Delta x)-f(x_{0})}{\\Delta x}}=\\lim \\limits _{{\\Delta x}\\to 0}{\\frac {\\Delta {f(x)}}{\\Delta x}}.}$$\n",
    "Однако, производная есть не у каждой функции.\n",
    "\n",
    "Нахождение производной функции называется *дифференцированием*. Нам предстоит научиться дифференцировать различные функции или вспомнить как это делается."
   ]
  },
  {
   "cell_type": "markdown",
   "metadata": {},
   "source": [
    "## Табличные производные"
   ]
  },
  {
   "cell_type": "markdown",
   "metadata": {},
   "source": [
    "Мы не будем подробно останавливаться на том, как получить правила дифференцирования и вывести табличные формулы. Просто оставим их здесь, чтобы вы вспомнили. \n",
    "\n",
    "Для более подробного ознакомления советуем почитать вот эти статьи:\n",
    "\n",
    "1) http://mathprofi.ru/opredelenie_proizvodnoi_smysl_proizvodnoi.html\n",
    "\n",
    "2) http://mathprofi.ru/kak_naiti_proizvodnuju.html\n",
    "\n",
    "\n",
    "__Правила дифференцирования.__ Операция нахождения производной называется дифференцированием. При выполнении этой операции часто приходится работать с частными, суммами, произведениями функций, а также с «функциями функций», то есть сложными функциями. Исходя из определения производной, можно вывести правила дифференцирования, облегчающие эту работу. \n",
    "\n",
    "Если ${\\displaystyle C}$ — постоянное число и ${\\displaystyle f=f(x),\\;g=g(x)}$ — некоторые дифференцируемые функции, то справедливы следующие правила дифференцирования:\n",
    "\n",
    "$\n",
    "*\\: {\\displaystyle C'=0} \\\\\n",
    "*\\: {\\displaystyle x'=1} \\\\\n",
    "*\\: {\\displaystyle \\left(f+g\\right)'=f'+g'} \\\\\n",
    "*\\: {\\displaystyle \\left(fg\\right)'=f'g+fg'} \\\\\n",
    "*\\: {\\displaystyle \\left(Cf\\right)'=Cf'} \\\\\n",
    "*\\: {\\displaystyle \\left({\\frac {f}{g}}\\right)'={\\frac {f'g-fg'}{g^{2}}}}\\;(g ≠ 0) \\\\\n",
    "*\\: {\\displaystyle \\left({\\frac {C}{g}}\\right)'=-{\\frac {Cg'}{g^{2}}}} \\;(g ≠ 0)\n",
    "$\n",
    "\n",
    "__Производные некоторых функций:__\n",
    "\n",
    "$\n",
    "*\\:(e^{x})' = e^{x} \\\\\n",
    "*\\:{\\displaystyle (x^{\\alpha })'}={\\displaystyle \\alpha \\cdot x^{\\alpha -1}} \\\\\n",
    "*\\:{\\displaystyle (a^{x})'}={\\displaystyle a^{x}\\cdot \\ln {a}} \\\\\n",
    "*\\:{\\displaystyle (\\log _{a}{x})'}={\\displaystyle {\\frac {1}{x\\cdot \\ln {a}}}} \\\\\n",
    "*\\:(\\sin x)'=\\cos x \\\\\n",
    "*\\:(\\cos x)'={\\displaystyle -\\sin x} \\\\\n",
    "*\\:{\\displaystyle (\\mathrm {tg} \\ x)'}={\\displaystyle {\\frac {1}{\\cos ^{2}{x}}}} \\\\\n",
    "*\\:{\\displaystyle (\\mathrm {ctg} \\ x)'}={\\displaystyle -{\\frac {1}{\\sin ^{2}{x}}}} \\\\\n",
    "*\\:{\\displaystyle (\\arcsin {x})'}={\\displaystyle {\\frac {1}{\\sqrt {1-x^{2}}}}} \\\\\n",
    "*\\:{\\displaystyle (\\arccos {x}})'={\\displaystyle -{\\frac {1}{\\sqrt {1-x^{2}}}}} \\\\\n",
    "*\\:{\\displaystyle (\\mathrm {arctg} \\ x)'}={\\displaystyle {\\frac {1}{1+x^{2}}}} \\\\\n",
    "*\\:{\\displaystyle (\\mathrm {arcctg} \\ x)'}={\\displaystyle -{\\frac {1}{1+x^{2}}}} \\\\\n",
    "*\\:{\\displaystyle (\\mathrm {sh} \\ x)'}={\\displaystyle \\mathrm {ch} \\ x} \\\\\n",
    "*\\:{\\displaystyle (\\mathrm {ch} \\ x)'}={\\displaystyle \\mathrm {sh} \\ x} \\\\\n",
    "*\\:{\\displaystyle (\\mathrm {th} \\ x)'}={\\displaystyle {\\frac {1}{\\mathrm {ch} ^{2}\\ x}}} \\\\\n",
    "*\\:{\\displaystyle (\\mathrm {cth} \\ x)'}={\\displaystyle -{\\frac {1}{\\mathrm {sh} ^{2}\\ x}}}\n",
    "$"
   ]
  },
  {
   "cell_type": "markdown",
   "metadata": {},
   "source": [
    "## Упражение №1 (3 балла)"
   ]
  },
  {
   "cell_type": "markdown",
   "metadata": {},
   "source": [
    "Аналитически возьмите производную следующих функций, а затем реализуйте производные функций и найдите их значения в заданных точках:\n",
    "\n",
    "__1.__ $\\displaystyle y =\\frac {1}{(3x^{4}+x+2)^{3}}$;\n",
    "\n",
    "__2.__ $\\displaystyle y =\\cos (\\ln \\sqrt{1+x^{2}})$;\n",
    " \n",
    "__3.__ $\\displaystyle y =\\frac {1}{e^{x}\\sin (5x)}$."
   ]
  },
  {
   "cell_type": "code",
   "execution_count": null,
   "metadata": {
    "collapsed": true
   },
   "outputs": [],
   "source": [
    "# TODO: реализуйте производную каждой функции\n",
    "\n",
    "def prime_f1(x):\n",
    "    # Ваш код\n",
    "    y = None\n",
    "    return y\n",
    "\n",
    "def prime_f2(x):\n",
    "    # Ваш код\n",
    "    y = None\n",
    "    return y\n",
    "\n",
    "def prime_f3(x):\n",
    "    # Ваш код\n",
    "    y = None\n",
    "    return y"
   ]
  },
  {
   "cell_type": "code",
   "execution_count": null,
   "metadata": {},
   "outputs": [],
   "source": [
    "# НЕ модифицируйте эту ячейку, только запустите\n",
    "\n",
    "# Пары для каждой функции (x, y), где \n",
    "# x - аргумент функции \n",
    "# y - значение производной в точке x\n",
    "control_points = [((5, 0), (0, -0.19)),\n",
    "                  ((1, -0.17), (13, -0.04)),\n",
    "                  ((2, 2.17), (100, 0))]\n",
    "\n",
    "# Производные функций, которые инициализировали выше\n",
    "functions = [prime_f1, prime_f2, prime_f3]\n",
    "\n",
    "for points, func in zip(control_points, functions):\n",
    "    for x, y in points:\n",
    "        assert round(func(x), 2) == y, \"Что-то пошло не так с {}!\".format(func.__name__)\n",
    "    print(\"{} работает корректно!\".format(func.__name__))"
   ]
  },
  {
   "cell_type": "markdown",
   "metadata": {},
   "source": [
    "### 2. Численные Методы \n",
    "### Или как взять производную в точке от любой функции без страха, боли и смс."
   ]
  },
  {
   "cell_type": "markdown",
   "metadata": {},
   "source": [
    "Не всегда аналитические решения удается получить. Зачастую это трудоемкий процесс. Однако, решение нам получить хочется, а раз хочется, то давайте искать! Конечно, сейчас нам будет невозможно объять необъятное в виде численных методов, которые требуют знание математического аппарата первых двух курсов института. Но в наших силах реализовать численную производную.\n",
    "\n",
    "Вспомним определение производной $f(x)$ в точке $x_0$:\n",
    "\n",
    "$${\\displaystyle f'(x_{0})=\\lim \\limits _{x\\to x_{0}}{\\frac {f(x)-f(x_{0})}{x-x_{0}}}=\\lim _{\\Delta x\\to 0}{\\frac {f(x_{0}+\\Delta x)-f(x_{0})}{\\Delta x}}.}$$\n",
    "\n",
    "Такое определение подразумевает, что $f(x)$ будет непрерывна, как это иллюстрирует картинка.\n",
    "<img src=\"https://c.radikal.ru/c38/1905/88/48bc19d9ad15.png\" width=\"300\">\n",
    "Вот только в компьютере нет ничего непрерывного. У нас есть фиксированная точность значений, ниже которой мы не сможем задать число. В таком случае, тот же график в представлении компьютера можно изобразить так.\n",
    "<img src=\"https://c.radikal.ru/c14/1905/b4/5704025a1dec.png\" width=\"300\">\n",
    "\n",
    "Таким образом, мы задаем расчетную сетку. Это процесс, когда мы задаем координаты, в которых будем считать функцию. Так мы говорим сколько будет значений в сетке $i=1,...,N$ и чем ближе будут $x_i$, тем сетка будет меньше, т.е. меньше шаг между $x$, и тем самым точнее считать функцию. \n",
    "\n",
    "Вспомните, как вы в школьной тетради на математике рисовали графики по клеткам. Это и было численное построение графиков на расчетной сетке!"
   ]
  },
  {
   "cell_type": "markdown",
   "metadata": {},
   "source": [
    "## Расчетная сетка"
   ]
  },
  {
   "cell_type": "markdown",
   "metadata": {},
   "source": [
    "Проясним, что такое расчетная сетка на примере построения графиков. \n",
    "\n",
    "Для начала установим пакет ```matplotlib``` – один из излюбленных способов визуализации данных. Мы еще вернемся к нему во время смены, а пока посмотрим, как им можно построить графики."
   ]
  },
  {
   "cell_type": "code",
   "execution_count": 1,
   "metadata": {
    "ExecuteTime": {
     "end_time": "2019-07-17T08:41:37.158378Z",
     "start_time": "2019-07-17T08:41:36.925787Z"
    }
   },
   "outputs": [],
   "source": [
    "# ячейки jupyter поддерживают магические команды\n",
    "# например, можно вызвать pip!\n",
    "# !pip install matplotlib\n",
    "import matplotlib.pyplot as plt"
   ]
  },
  {
   "cell_type": "code",
   "execution_count": 2,
   "metadata": {
    "ExecuteTime": {
     "end_time": "2019-07-17T08:41:38.188551Z",
     "start_time": "2019-07-17T08:41:37.582577Z"
    }
   },
   "outputs": [
    {
     "data": {
      "image/png": "[encoded data removed]",
      "text/plain": [
       "<Figure size 1440x720 with 8 Axes>"
      ]
     },
     "metadata": {},
     "output_type": "display_data"
    }
   ],
   "source": [
    "# Рассмотрим на примере численного построения функции f(x) = cos(x) на отрезке [a, b]\n",
    "\n",
    "# Инициализация количества отображаемых графиков и общий размер\n",
    "fig, ax = plt.subplots(nrows = 2, ncols = 4, figsize=(20, 10))\n",
    "ax = ax.ravel(order='C')\n",
    "\n",
    "# Параметры сетки\n",
    "h_counts = np.linspace(2, 1e-2, 8, dtype=np.float32) ## шаги для 8 сеток\n",
    "# Отрезок [a,b], на котором строим сетку\n",
    "a = 0.0\n",
    "b = 10.0\n",
    "\n",
    "# Последовательно рисуем f(x) = cos(x) на отрезке [a, b]\n",
    "# на разных расчетных сетках.\n",
    "for i, h in enumerate(h_counts):\n",
    "    N = int((b-a)/h) # количество значений в сетке\n",
    "    x = np.linspace(a, b, N, dtype=np.float32)\n",
    "    y = np.cos(x, dtype=np.float32)\n",
    "    ax[i].plot(x, y, c='r')\n",
    "    ax[i].scatter(x, y, c='b')\n",
    "    ax[i].set_xlabel(\"h = {:.2f}, N = {}\".format(h, N), fontsize=21)\n",
    "    ax[i].set_xticks([])\n",
    "    ax[i].set_yticks([])\n",
    "    \n",
    "plt.tight_layout()\n",
    "plt.show();"
   ]
  },
  {
   "cell_type": "markdown",
   "metadata": {},
   "source": [
    "Можно заметить, что при уменьшении шага сетки мы получаем все более привычное (непрерывное) представление функции $f(x) = cos(x)$."
   ]
  },
  {
   "cell_type": "markdown",
   "metadata": {},
   "source": [
    "## Производная в точке\n",
    "Теперь посмотрим на то, как при этом изменится формула производной. \n",
    "\n",
    "$${\\displaystyle f'(x_{0})=\\lim _{\\Delta x\\to 0}{\\frac {f(x_{0}+\\Delta x)-f(x_{0})}{\\Delta x}}={\\frac {f(x_{i+1})-f(x_{i})}{x_{i+1}-x_{i}}}={\\frac {f(x_{i}+h)-f(x_{i})}{h}},}$$\n",
    "где $h=x_{i+1}-x_{i}$ называется шагом расчетной сетки."
   ]
  },
  {
   "cell_type": "markdown",
   "metadata": {},
   "source": [
    "## Упражнение №2 (7 баллов)\n",
    "\n",
    "Теперь сравним численное и аналитическое решение на примере функций из __Упражнения №1__.\n",
    "\n",
    "Реализуйте численное решение согласно формуле выше. Посмотрите при каком значении шага сетки численное решение равно аналитическому с точностью до $10^{-4}$."
   ]
  },
  {
   "cell_type": "code",
   "execution_count": null,
   "metadata": {
    "collapsed": true
   },
   "outputs": [],
   "source": [
    "# TODO: реализуйте в питоне исходные функции из Упражнения №1, от которых вы брали производные.\n",
    "\n",
    "def f1(x):\n",
    "    # Ваш код\n",
    "    y = None\n",
    "    return y\n",
    "\n",
    "def f2(x):\n",
    "    # Ваш код\n",
    "    y = None\n",
    "    return y\n",
    "\n",
    "def f3(x):\n",
    "    # Ваш код\n",
    "    y = None\n",
    "    return y"
   ]
  },
  {
   "cell_type": "code",
   "execution_count": null,
   "metadata": {
    "collapsed": true
   },
   "outputs": [],
   "source": [
    "# TODO: реализуйте формулу выше для численного решения прозводной.\n",
    "\n",
    "def numeric_prime(func, x, h):\n",
    "    # Ваш код\n",
    "    y = None\n",
    "    return y"
   ]
  },
  {
   "cell_type": "code",
   "execution_count": null,
   "metadata": {
    "collapsed": true,
    "scrolled": true
   },
   "outputs": [],
   "source": [
    "# НЕ модифицируйте эту ячейку, только запустите\n",
    "\n",
    "h = 1e-1 # шаг сетки\n",
    "tol = 1e-4 # точность вычислений\n",
    "\n",
    "# Пары для каждой функции (x1, x2), где \n",
    "# x1 и x2 - аргументы функции \n",
    "points = [(5, 0), (1, 13), (2, 100)]\n",
    "\n",
    "# Производные функций, которые инициализировали в Упражнении №1\n",
    "prime_functions = [prime_f1, prime_f2, prime_f3]\n",
    "# Исходные функции\n",
    "functions = [f1, f2, f3]\n",
    "\n",
    "# Сравниваем значения численного и аналитического решения\n",
    "for point, func, analitic_prime in zip(points, functions, prime_functions):\n",
    "    for x in point:\n",
    "        assert numeric_prime(func, x, h) - analitic_prime(x) <= tol,  \"Что-то пошло не так с {}!\".format(func.__name__)\n",
    "    print(\"{} работает корректно!\".format(func.__name__))"
   ]
  },
  {
   "cell_type": "markdown",
   "metadata": {},
   "source": [
    "## Функции нескольких переменных \n",
    "\n",
    "Функции одной переменной $f(x)$ это лишь частный случай функции многих переменных $f(x_1, ..., x_n)$, которые имеют самое широкое приминение в математике. Сейчас нам будет интресно посмотреть как ведет себя производная в данном случае.\n",
    "\n",
    "Суть остается прежней только теперь операция называется частной производной и обозначется она $\\displaystyle \\frac {\\partial \\varphi }{\\partial x}$, где $x$ — это переменная относительно которой берем производную. Это из-за того, что производную мы берем относительно одного аргумента, а все остальные аргументы считаем постоянными. При этом все правила дифференцирования функции одной переменной остаются в силе.\n",
    "\n",
    "### Запутано? Давайте рассмотрим примеры:\n",
    "\n",
    "__1.__ $\\displaystyle f(x,y) = x^2 + y$\n",
    "\n",
    "$\\displaystyle \\frac {\\partial f(x,y) }{\\partial x} = \\frac {\\partial (x^2+y) }{\\partial x} = \\frac {\\partial x^2 }{\\partial x} + \\frac {\\partial y }{\\partial x} = 2x + 0 = 2x$\n",
    "\n",
    "$\\displaystyle \\frac {\\partial y }{\\partial x} = 0$ из-за того, что $y$ никак не зависит от $x$\n",
    "\n",
    "\n",
    "__2.__ $\\displaystyle f(x,y,z) = x^2z^4 + \\frac {4y^2}{x}$\n",
    "\n",
    "$\\displaystyle \\frac {\\partial f(x,y,z) }{\\partial x} = \\frac {\\partial (x^2z^4 + \\frac {4y^2}{x}) }{\\partial x} = \\frac {\\partial x^2z^4}{\\partial x} + \\frac {\\partial \\frac {4y^2}{x}}{\\partial x} = z^4\\frac {\\partial x^2}{\\partial x} + 4y^2\\frac {\\partial \\frac {1}{x}}{\\partial x} = 2z^4x - \\frac {4y^2}{x^2}$\n",
    "\n",
    "\n",
    "__3.__ $\\displaystyle f(x,y) = \\cos(e^{x^2+2y})$\n",
    "\n",
    "$\\displaystyle \\frac {\\partial f(x,y) }{\\partial x} = \\frac {\\partial \\cos(e^{x^2+2y})}{\\partial x} = -\\sin(e^{x^2+2y}) \n",
    "\\frac {\\partial e^{x^2+2y} }{\\partial x} = -\\sin(e^{x^2+2y}) e^{x^2+2y}\\frac {\\partial (x^2+2y) }{\\partial x} = -2x\\sin(e^{x^2+2y}) e^{x^2+2y}$\n",
    "\n",
    "Таким образом, можете себе представить так: частная производная от функции многих переменных берется относительно какого-то аргумента фиксируя все остальные аргументу, т.е. принимаем их за константы."
   ]
  },
  {
   "cell_type": "markdown",
   "metadata": {},
   "source": [
    "## Градиент\n",
    "\n",
    "Введем такое поняте __градиент__ — вектор, своим направлением указывающий направление наибольшего возрастания некоторой величины ${\\displaystyle \\varphi}$. Это очень важное свойство, которое помогает искать минимумы и максимумы функций нескольких переменных. Осознание данного утверждения потребуется нам дальше на летней смене. \n",
    "\n",
    "Давйте рассмотрим графическую интерпретацию на картинке ниже. Видно, что стрелки идут от синей области к красной, т.е. красная область — пик максимума (вершина), а синяя — минимум (яма).\n",
    "\n",
    "<img src=\"https://d.radikal.ru/d28/1905/e5/9a65c30ea355.jpg\" width=\"500\">\n",
    "\n",
    "Для случая трёхмерного пространства градиентом скалярной функции ${\\displaystyle \\varphi =\\varphi (x,y,z)}$ координат ${\\displaystyle x}, {\\displaystyle y}, {\\displaystyle z}$ называется векторная функция с компонентами ${\\displaystyle \\frac  {\\partial \\varphi }{\\partial x}},{\\displaystyle \\frac  {\\partial \\varphi }{\\partial y}},{\\displaystyle \\frac  {\\partial \\varphi }{\\partial z}}$ и обозначается ${\\displaystyle \\nabla \\varphi =\\left({\\frac {\\partial \\varphi }{\\partial x}},\\;{\\frac {\\partial \\varphi }{\\partial y}},\\;{\\frac {\\partial \\varphi }{\\partial z}}\\right).}$\n",
    "\n",
    "Если ${\\displaystyle \\varphi }$  — функция ${\\displaystyle n}$ переменных ${\\displaystyle x_{1},\\;\\ldots ,\\;x_{n}}$, то её градиентом называется ${\\displaystyle n}$-мерный вектор ${\\displaystyle \\left({\\frac {\\partial \\varphi }{\\partial x_{1}}},\\;\\ldots ,\\;{\\frac {\\partial \\varphi }{\\partial x_{n}}}\\right),} $ компоненты которого равны частным производным ${\\displaystyle \\varphi }$ по всем её аргументам.\n",
    "\n",
    "### Примеры\n",
    "Градиент функции ${\\displaystyle \\varphi (x,\\;y,\\;z)=2x+3y^{2}-\\sin z}$ будет представлять собой:\n",
    "\n",
    "${\\displaystyle \\nabla \\varphi =\\left({\\frac {\\partial \\varphi }{\\partial x}},\\;{\\frac {\\partial \\varphi }{\\partial y}},\\;{\\frac {\\partial \\varphi }{\\partial z}}\\right)=(2,\\;6y,\\;-\\cos z).}$\n",
    "\n",
    "А градиент ${\\displaystyle \\varphi (x,\\;y,\\;z)=e^{z^{2}}tg(xy^2)+2y}$ будет:\n",
    "\n",
    "${\\displaystyle \\nabla \\varphi =\\left({\\frac {\\partial \\varphi }{\\partial x}},\\;{\\frac {\\partial \\varphi }{\\partial y}},\\;{\\frac {\\partial \\varphi }{\\partial z}}\\right)=(\\frac{e^{z^{2}}}{cos^2(xy^2)},\\;\\frac{2ye^{z^{2}}}{cos^2(xy^2)}+2,\\;2ze^{z^{2}}tg(xy^2)).}$"
   ]
  },
  {
   "cell_type": "markdown",
   "metadata": {},
   "source": [
    "## Численный градиент\n",
    "\n",
    "Как мы уже поняли градиент — это частные производные от некоторых аргументов функции. Получается, что численный метод для производной одной переменной можно применить и сюда. Давайте посмотрим как это будет выглядить на примере функции $\\varphi = \\varphi(x, y, z)$\n",
    "\n",
    "$${\\displaystyle \\frac  {\\partial \\varphi(x,y,z) }{\\partial x} = \\lim _{\\Delta x\\to 0}{\\frac {\\varphi(x+\\Delta x,y,z)-\\varphi(x,y,z)}{\\Delta x}}={\\frac {\\varphi(x_{i+1},y_{i},z_{i})-\\varphi(x_{i},y_{i},z_{i})}{x_{i+1}-x_{i}}}={\\frac {\\varphi(x_{i}+h,y_{i},z_{i})-\\varphi(x_{i},y_{i},z_{i})}{h}}}$$\n",
    "\n",
    "$${\\displaystyle \\frac  {\\partial \\varphi(x,y,z) }{\\partial y} = \\lim _{\\Delta y\\to 0}{\\frac {\\varphi(x,y+\\Delta y,z)-\\varphi(x,y,z)}{\\Delta y}}={\\frac {\\varphi(x_{i},y_{i+1},z_{i})-\\varphi(x_{i},y_{i},z_{i})}{y_{i+1}-y_{i}}}={\\frac {\\varphi(x_{i},y_{i}+h,z_{i})-\\varphi(x_{i},y_{i},z_{i})}{h}}}$$\n",
    "\n",
    "$${\\displaystyle \\frac  {\\partial \\varphi(x,y,z) }{\\partial z} = \\lim _{\\Delta z\\to 0}{\\frac {\\varphi(x,y,z+\\Delta z)-\\varphi(x,y,z)}{\\Delta z}}={\\frac {\\varphi(x_{i},y_{i},z_{i+1})-\\varphi(x_{i},y_{i},z_{i})}{z_{i+1}-z_{i}}}={\\frac {\\varphi(x_{i},y_{i},z_{i}+h)-\\varphi(x_{i},y_{i},z_{i})}{h}}}$$\n",
    "\n",
    "А затем загружаем все это в один вектор и получаем градиент функции $\\varphi$ равный $${\\displaystyle \\nabla \\varphi(x, y, z) =\\left({\\frac {\\partial \\varphi(x,y,z) }{\\partial x}},\\;{\\frac {\\partial \\varphi(x,y,z) }{\\partial y}},\\;{\\frac {\\partial \\varphi(x,y,z) }{\\partial z}}\\right).}$$\n",
    "\n",
    "Конечно, этот результат обобщается на любое другое количество аргументов функции.\n",
    "\n",
    "Теперь давайте реализуем это!"
   ]
  },
  {
   "cell_type": "markdown",
   "metadata": {},
   "source": [
    "## Упражнение №3 (10 баллов)\n",
    "Играемся с градиентами!\n",
    "\n",
    "Все функции, в которых мы будем вычислять градиенты будут написаны по одной и той же схеме.\n",
    "Они будут получать на вход точку, где нужно вычислить значение и градиент функции, а на выходе будут выдавать кортеж (tuple) из двух значений — собственно значения функции в этой точке (всегда одно число) и аналитического значения градиента в той же точке (той же размерности, что и вход).\n",
    "```\n",
    "def f(x):\n",
    "    \"\"\"\n",
    "    Вычисляет функцию и аналитический градиент в точке х\n",
    "\n",
    "    x: np array of float, начальные точки, где проверяется градиент\n",
    "\n",
    "    Returns:\n",
    "    value: float, значение функции \n",
    "    grad: np array of float, имеет такой же размер, как x\n",
    "    \"\"\"\n",
    "    ...\n",
    "\n",
    "    return value, grad\n",
    "```\n",
    "Необходимым инструментом во время реализации кода, вычисляющего градиенты, является функция его проверки. Эта функция вычисляет градиент численным методом и сверяет результат с градиентом, вычисленным аналитическим методом.\n",
    "\n",
    "Мы начнем с того, чтобы реализовать вычисление численного градиента (numeric gradient) в функции check_gradient. Эта функция будет принимать на вход функции формата, заданного выше, использовать значение value для вычисления численного градиента и сравнит его с аналитическим — они должны сходиться.\n",
    "\n",
    "Напишите часть функции, которая вычисляет градиент с помощью численной производной для каждой координаты. Для вычисления производной используйте так называемую __двухточечная формула__, которую мы рассмотрели выше:\n",
    "\n",
    "$${\\displaystyle f'(x)={\\frac {f(x+h)-f(x)}{h}}.}$$\n",
    "\n",
    "Все функции приведенные в следующей клетке должны проходить gradient check."
   ]
  },
  {
   "cell_type": "code",
   "execution_count": null,
   "metadata": {
    "collapsed": true
   },
   "outputs": [],
   "source": [
    "def check_gradient(f, x, delta=1e-5, tol = 1e-4):\n",
    "    '''\n",
    "    Проверяет реализацию аналитического градиента путем сравнения\n",
    "    с численным градиент, полученным по двухточечной формуле\n",
    "    Arguments:\n",
    "      f: функция, которая получает х и вычисляет значение и градиент\n",
    "      x: np array, начальная точка, где проверяется градиент\n",
    "      delta: шаг для вычисления численного градиента\n",
    "      tol: точность для сравнения числового и аналитического градиента\n",
    "    Return:\n",
    "      bool указывает, соответствуют градиенты заданной точности или нет\n",
    "    '''\n",
    "    assert isinstance(x, np.ndarray)\n",
    "    assert x.dtype == np.float\n",
    "    \n",
    "    orig_x = x.copy()\n",
    "    fx, analytic_grad = f(x)\n",
    "    assert np.all(np.isclose(orig_x, x, tol)), \"Функции не должны изменять входные переменные\"\n",
    "\n",
    "    assert analytic_grad.shape == x.shape\n",
    "    analytic_grad = analytic_grad.copy()\n",
    "\n",
    "    # Переберм каждый аргумент x = (x_1,...,x_n) \n",
    "    # и вычислим численную производную для него по формуле выше\n",
    "    it = np.nditer(x, flags=['multi_index'], op_flags=['readwrite'])\n",
    "    while not it.finished:\n",
    "        ix = it.multi_index\n",
    "        analytic_grad_at_ix = analytic_grad[ix]\n",
    "        numeric_grad_at_ix = 0\n",
    "\n",
    "        # TODO: численно найдите значение градиента от f до idx\n",
    "        if not np.isclose(numeric_grad_at_ix, analytic_grad_at_ix, tol):\n",
    "            print(\"Градиенты разные на %s. Аналитически: %2.5f, Численно: %2.5f\" % \\\n",
    "                  (ix, analytic_grad_at_ix, numeric_grad_at_ix))\n",
    "            return False\n",
    "\n",
    "        it.iternext()\n",
    "\n",
    "    print(\"Градиентная проверка пройдена!\")\n",
    "    return True"
   ]
  },
  {
   "cell_type": "code",
   "execution_count": null,
   "metadata": {
    "collapsed": true
   },
   "outputs": [],
   "source": [
    "# TODO: реализовать функцию check_gradient\n",
    "# Все функции ниже должны пройти проверку градиента\n",
    "\n",
    "def square(x):\n",
    "    return float(x*x), 2*x\n",
    "\n",
    "check_gradient(square, np.array([3.0]))\n",
    "\n",
    "def array_sum(x):\n",
    "    assert x.shape == (2,), x.shape\n",
    "    return np.sum(x), np.ones_like(x)\n",
    "\n",
    "check_gradient(array_sum, np.array([3.0, 2.0]))\n",
    "\n",
    "def array_2d_sum(x):\n",
    "    assert x.shape == (2,2)\n",
    "    return np.sum(x), np.ones_like(x)\n",
    "\n",
    "check_gradient(array_2d_sum, np.array([[3.0, 2.0], [1.0, 0.0]]))"
   ]
  },
  {
   "cell_type": "markdown",
   "metadata": {},
   "source": [
    "# 3. Векторы и Матрицы"
   ]
  },
  {
   "cell_type": "markdown",
   "metadata": {},
   "source": [
    "## Понятие матрицы и вектора "
   ]
  },
  {
   "cell_type": "markdown",
   "metadata": {},
   "source": [
    "### Векторы\n",
    "\n",
    "**Направленный отрезок** — отрезок прямой, для которого указано, какая из его граничных точек является началом, а какая — концом.\n",
    "\n",
    "**Вектором** (или **свободным вектором**) называется множество всех одинаковых (по направлению и длине) направленных отрезков. Вектор обозначается маленькой латинской буквой с чертой сверху: $\\bar a$. \n",
    "\n",
    "**Компонентами** вектора называется набор чисел $\\left\\{ x_1 \\dots x_N \\right\\}$, являющихся координатами конца соответствующего направленного отрезна, начало которого совпадает с началом координат. \n",
    "\n",
    "**Модуль** вектора -- это его длина. Вычисляется по формуле $\\left|x\\right| = \\sqrt{\\sum_{i=1}^n \\left(x_{i}\\right)^2}$ и является $l_2$ нормой вектора.\n",
    "\n",
    "**Единичным** называется вектор, модуль которого равен 1."
   ]
  },
  {
   "cell_type": "markdown",
   "metadata": {},
   "source": [
    "### Отношения между векторами\n",
    "* Векторы называются *коллинеарными*, если они лежат либо на одной прямой, либо на параллельных прямых.    \n",
    "* Векторы называются *ортогональными*, если они перпендикулярны.    \n",
    "* Два коллинеарных вектора называются *сонаправленными*, если их направления совпадают.   \n",
    "* Два коллинеарных вектора называются *противоположно направленными*, если их направления противоположны. "
   ]
  },
  {
   "cell_type": "markdown",
   "metadata": {},
   "source": [
    "### Операции над векторами\n",
    "Оперции над векторами вам давно известны, но Векторы можно, например:\n",
    "- Складывать\n",
    "- Умножать\n",
    "- Умножать на константу"
   ]
  },
  {
   "cell_type": "markdown",
   "metadata": {},
   "source": [
    "### Нормы векторов\n",
    "Вспомним некоторые нормы, которые можно ввести в пространстве $\\mathbb{R}^{n}$\n",
    "\n",
    "$p$-норма (норма Гёльдера) для вектора $x = (x_{1}, \\dots, x_{n}) \\in \\mathbb{R}^{n}$ вычисляется по формуле:\n",
    "\n",
    "$$ \\left\\Vert x \\right\\Vert^{p} = \\left( \\sum_{i=1}^n \\left| x_{i} \\right|^{p} \\right)^{1 / p},~p \\geq 1. $$\n",
    "\n",
    "В частных случаях при:\n",
    "\n",
    "$p = 1$ получаем $\\ell_{1}$ норму, вычисляющуюся по формуле: $\\sum_{i=1}^n \\left| x_{i}\\right|$  \n",
    "$p = 2$ получаем $\\ell_{2}$ норму, вычисляющуюся по формуле: $\\sqrt{\\sum_{i=1}^n \\left(x_{i}\\right)^2}$"
   ]
  },
  {
   "cell_type": "markdown",
   "metadata": {},
   "source": [
    "### Скалярное произведение векторов\n",
    "\n",
    "Для решения большого числа различных задач необходимо вычесление скалярной величины, вычисляемой по формуле \n",
    "\n",
    "$$\\left<\\bar a, \\bar b \\right> = \\left|a\\right| * \\left|b\\right| * \\cos \\left(\\bar a, \\bar b\\right)$$\n",
    "\n",
    "В данной формуле $\\cos \\left(\\bar a, \\bar b\\right)$ -- это косинус угла между векторами. Данноая величина называется скалярным произведением векторов.\n",
    "\n",
    "Существует более простой способ вычисления скалярного произведения.\n",
    "\n",
    "$$\\left<\\bar a, \\bar b \\right> = \\sum_{i=1}^N \\left(a_i * b_i\\right)$$\n",
    "\n",
    "У скалярного произведения есть несколько интересных свойств:\n",
    "\n",
    "* Модуль вектора $\\left| x \\right| = \\sqrt{\\left<x, x\\right>}$\n",
    "* Косинус угла между векторами (косинусное расстояние) $\\cos \\left(\\bar a, \\bar b\\right) = \\frac{\\left<\\bar a, \\bar b\\right>}{|a||b|}$\n",
    "* Скалярное произведение ортогональных векторов равно 0\n",
    "* Длина проекции вектора на некоторую ось равна скалярному произведению вектора на единичный вектор лежащий на данной оси."
   ]
  },
  {
   "cell_type": "markdown",
   "metadata": {},
   "source": [
    "### Расстояния между векторами\n",
    "\n",
    "Расстояние Минковского (метрика Минковского) порядка $p$для векторов $\\bar x = (x_{1}, \\dots, x_{n}) \\in \\mathbb{R}^{n}$ и $\\bar y = (y_{1}, \\dots, y_{n}) \\in \\mathbb{R}^{n}$ вычисляется по формуле:\n",
    "\n",
    "$$p_p (x,y) = \\left(\\sum_{i=1}^n {\\left|x_i - y_i\\right|^p} \\right)^{1 / p} $$ \n",
    "\n",
    "В частных случаях при:  \n",
    "$p = 1$ получаем $ L1$ = $\\rho{1}\\left( x, y \\right) = \\left\\Vert x - y \\right\\Vert_{1} = \\sum_{i=1}^n \\left| x_{i} - y_{i} \\right|$, иначе называемую Манхэтоновским Расстонием   \n",
    "$p = 2$ получаем $ L2$ = $ \\rho{2}\\left( x, y \\right) = \\left\\Vert x - y \\right\\Vert_{2} = \\sqrt{\\sum_{i=1}^n \\left( x_{i} - y_{i} \\right)^2}$, иначе называемую Евклидовым Расстонием\n",
    "\n",
    "Кроме того, метрика выраждается:  \n",
    "при $p = \\infty$ в Расстояние Чебышева, выбирающее наибольшее из расстояний между векторами по каждой координате,   \n",
    "при $p = 0$ в Считающее расстояние, равное числу координат, по которым векторы x и y различаются. \n",
    "\n",
    "Есть и другие виды расстояний, например: [Расстояние Махалонобиса](https://ru.wikipedia.org/wiki/Расстояние_Махаланобиса) и такие специфические как [косинусное растоние](https://en.wikipedia.org/wiki/Cosine_similarity) или [Расстояние Левенштейна](https://ru.wikipedia.org/wiki/Расстояние_Левенштейна) и многие другие\n",
    "\n"
   ]
  },
  {
   "cell_type": "markdown",
   "metadata": {},
   "source": [
    "### Прямоугольная матрица\n",
    "\n",
    "Пусть есть два конечных множества:\n",
    "\n",
    "* номера строк: $M =\\{1,2,\\dots,m\\}$;\n",
    "* номера столбцов: $N =\\{1,2,\\dots,n\\}$, \n",
    "\n",
    "где $m$ и $n$ — натуральные числа.\n",
    "\n",
    "Назовём матрицей $A$ размера $m\\times n$ (читается $m$ на $n$) ($m$ $-$ **строк**, $n$ $-$ **столбцов**). Матрица записывается как\n",
    "\n",
    "${\\textstyle A={\\begin{pmatrix}a_{11}&a_{12}&\\cdots &a_{1n}\\\\a_{21}&a_{22}&\\cdots &a_{2n}\\\\\\vdots &\\vdots &a_{ij}&\\vdots \\\\a_{m1}&a_{m2}&\\cdots &a_{mn}\\end{pmatrix}},}$ \n",
    "\n",
    "где элемент матрицы $\\displaystyle a_{ij}=a(i,j)$ находится на пересечении $i$-й строки и $j$-го столбца.\n",
    "\n",
    "* $i$-я строка матрицы ${\\textstyle A(i,)={\\begin{pmatrix}a_{i1}&a_{i2}&\\cdots &a_{in}\\end{pmatrix}};}$ \n",
    "\n",
    "* ${\\displaystyle j}$-й столбец матрицы ${\\textstyle A(,j)={\\begin{pmatrix}a_{1j}\\\\a_{2j}\\\\\\vdots \\\\a_{mj}\\end{pmatrix}}.}$ \n",
    "\n",
    "При этом количество элементов матрицы равно ${\\displaystyle m\\cdot n}$."
   ]
  },
  {
   "cell_type": "markdown",
   "metadata": {},
   "source": [
    "## Операции над матрицами"
   ]
  },
  {
   "cell_type": "markdown",
   "metadata": {},
   "source": [
    "### Связанные определения\n",
    "\n",
    "**Квадратной** называется матрица, у которой число строк равно числу столбцов.\n",
    "\n",
    "**Нулевой** ($Θ$) называется матрица, у которой все элементы равны 0.\n",
    "\n",
    "**Главной диагональю** матрицы называется набор элементов, у которых индекс строк равен индексу столбцов, то есть идущая из левого верхнего угла в правый нижний.\n",
    "\n",
    "**Побочной диагональю** матрицы называется набор элементов, расположенных на диагонали, идущей из левого нижнего угла в правый верхний.\n",
    "\n",
    "**Единичной** ($E$) называется квадратная матрица, у которой на главной диагонали стоят единицы, а все остальные равны нулю.\n",
    "\n",
    "**Симметричной** называется такая квадратная матрица, у которой для всех элементов выполняется условие $a_{i,j} = a_{j,i}$.\n",
    "\n",
    "**Диагональной** называется такая матрица, у которой элементы не лежащие на главной диагонали равны нулю.\n",
    "\n",
    "### Сложение матриц\n",
    "Складывать можно только матрицы одинакового размера.\n",
    "\n",
    "Сложение матриц $A+B$ есть операция нахождения матрицы $C$, все элементы которой равны попарной сумме всех соответствующих элементов матриц $A$ и $B$, то есть каждый элемент матрицы $C$ равен: $$\\displaystyle c_{i,j} = a_{i,j} + b_{i,j}$$\n",
    "\n",
    "### Транспонирование матриц\n",
    "\n",
    "Матрица $A^T$ называется **транспонированной** матрицей $A$, если для любого элемента $A^T_{i,j} = A_{j,i}$. Иными словами, отперация транспонирования -- это отражение матрицы относительно ее главной диагонали. \n",
    "\n",
    "Для симметричной матрицы $S = S^T$.\n",
    "\n",
    "#### Свойства сложения матриц:\n",
    "\n",
    "* коммутативность: $A+B = B+A$\n",
    "* ассоциативность: $(A+B)+C =A+(B+C)$;\n",
    "* сложение с нулевой матрицей: $A + Θ = A$;\n",
    "* существование противоположной матрицы: $A + (-A) = Θ$."
   ]
  },
  {
   "cell_type": "markdown",
   "metadata": {},
   "source": [
    "### Умножение матриц\n",
    "\n",
    "Умножение матриц (обозначение:  $AB$, реже со знаком умножения  $A\\times B$) — есть операция вычисления матрицы $C$, каждый элемент которой равен сумме произведений элементов в соответствующей строке первого множителя и столбце второго.\n",
    "\n",
    "$c_{ij}=\\sum _{k=1}^{n}a_{ik}b_{kj}$\n",
    "Количество столбцов в матрице $A$ должно совпадать с количеством строк в матрице $B$, иными словами, матрица $A$ обязана быть согласованной с матрицей $B$. Если матрица $A$ имеет размерность $m\\times n$, $B$ — $n \\times k$, то размерность их произведения $A B = C$ есть $m \\times k$.\n",
    "\n",
    "<img src=\"https://c.radikal.ru/c19/1905/2c/8f94cf30a7d7.png\" width=\"200\">\n",
    "\n",
    "#### Свойства умножения матриц:\n",
    "\n",
    "* ассоциативность: $(AB)C = A(BC)$;\n",
    "* антикоммутативность (в общем случае): $AB$ $\\neq$  $BA$;\n",
    "* произведение коммутативно в случае умножения с единичной матрицей: $AE = EA$;\n",
    "* дистрибутивность: $(A+B)C = AC + BC, \\: A(B+C) = AB + AC$;\n",
    "* ассоциативность и коммутативность относительно умножения на число: $(\\lambda A)B = \\lambda (AB) = A(\\lambda B)$.\n",
    "\n",
    "Подробное объяснение умножения матриц вместе с примерами можно найти [тут](http://mathprofi.ru/deistviya_s_matricami.html)."
   ]
  },
  {
   "cell_type": "markdown",
   "metadata": {},
   "source": [
    "## Numpy и его особенности"
   ]
  },
  {
   "cell_type": "markdown",
   "metadata": {},
   "source": [
    "Самым эффективный методом работы с матрицами и векторным представлением является пакет ```numpy```."
   ]
  },
  {
   "cell_type": "code",
   "execution_count": null,
   "metadata": {
    "collapsed": true
   },
   "outputs": [],
   "source": [
    "# Устанавливаем пакет numpy\n",
    "# Ячейки jupyter notebook позволяют запускать команды терминала внутри себя. \n",
    "!pip install numpy\n",
    "\n",
    "# Импортируем пакет numpy как np\n",
    "import numpy as np"
   ]
  },
  {
   "cell_type": "markdown",
   "metadata": {},
   "source": [
    "Самый простой способ создать вектор в __NumPy__ — задать его явно с помощью ```numpy.array(list, dtype=None, ...)```.\n",
    "\n",
    "Параметр ```list``` задает итерируемый объект, из которого можно создать вектор. Например, в качестве этого параметра можно задать список чисел. Параметр ```dtype``` задает тип значений вектора, например, ```np.float``` — для вещественных значений и ```np.int``` — для целочисленных. Если этот параметр не задан, то тип данных будет определен из типа элементов первого аргумента."
   ]
  },
  {
   "cell_type": "code",
   "execution_count": null,
   "metadata": {
    "collapsed": true
   },
   "outputs": [],
   "source": [
    "vec_a = np.array([1, 2, 3, 4, 5], dtype=float)\n",
    "print('Вектор:\\n', vec_a)"
   ]
  },
  {
   "cell_type": "markdown",
   "metadata": {},
   "source": [
    "Другим способом задания вектора является функция ```numpy.arange(([start, ]stop, [step, ]...)```, которая задает последовательность чисел заданного типа из промежутка __[start, stop)__ через шаг __step__:"
   ]
  },
  {
   "cell_type": "code",
   "execution_count": null,
   "metadata": {
    "collapsed": true
   },
   "outputs": [],
   "source": [
    "vec_b = np.arange(start=10, stop=20, step=2) # последнее значение не включается!\n",
    "print('Вектор чисел от 10 до 20 с шагом 2:\\n', vec_b)"
   ]
  },
  {
   "cell_type": "markdown",
   "metadata": {},
   "source": [
    "В __NumPy__ можно просто производить любые операции над векторами, например:"
   ]
  },
  {
   "cell_type": "code",
   "execution_count": null,
   "metadata": {
    "collapsed": true
   },
   "outputs": [],
   "source": [
    "print('Сумма:\\n', vec_a + vec_b)\n",
    "print('Покоординатное произведение:\\n', vec_a * vec_b)"
   ]
  },
  {
   "cell_type": "markdown",
   "metadata": {},
   "source": [
    "## Упражнение №4 (5 баллов)\n",
    "В первой задаче вам предлагается найти __L2__ расстояние двумя способами — без использования пакета numpy и с ним (почитайте про функцию ```np.linalg.norm()```)."
   ]
  },
  {
   "cell_type": "code",
   "execution_count": null,
   "metadata": {
    "collapsed": true
   },
   "outputs": [],
   "source": [
    "def norm_l2(a, b):\n",
    "    # Ваш код\n",
    "    # здесь напишите вычисление расстояния L2 для двух векторов\n",
    "    # без использования NumPy и выведите результат \n",
    "    pass"
   ]
  },
  {
   "cell_type": "code",
   "execution_count": null,
   "metadata": {
    "collapsed": true
   },
   "outputs": [],
   "source": [
    "def np_norm_l2(a, b):\n",
    "    # Ваш код\n",
    "    # здесь напишите вычисление расстояния L2 для двух векторов\n",
    "    # с использованием NumPy и выведите результат\n",
    "    pass"
   ]
  },
  {
   "cell_type": "code",
   "execution_count": null,
   "metadata": {
    "collapsed": true
   },
   "outputs": [],
   "source": [
    "%%time\n",
    "# засечем время работы функции без NumPy\n",
    "norm_l2(vec_a, vec_b)"
   ]
  },
  {
   "cell_type": "code",
   "execution_count": null,
   "metadata": {
    "collapsed": true
   },
   "outputs": [],
   "source": [
    "%%time\n",
    "# засечем время работы функции с NumPy\n",
    "np_norm_l2(vec_a, vec_b)"
   ]
  },
  {
   "cell_type": "markdown",
   "metadata": {},
   "source": [
    "## Упражнение №5 (5 баллов)\n",
    "В первой задаче вам предлагается перемножить две квадратные матрицы двумя способами — без использования пакета ```numpy``` и с ним.\n",
    "\n",
    "Для генерации матриц используем фукнцию ```random``` — она используется для генерации случайных объектов \n",
    "функция ```sample``` создает случайную выборку. В качестве аргумента ей передается кортеж $(i,j)$, здесь $i$ — число строк, $j$ — число столбцов."
   ]
  },
  {
   "cell_type": "code",
   "execution_count": null,
   "metadata": {
    "collapsed": true,
    "scrolled": true
   },
   "outputs": [],
   "source": [
    "a = np.random.sample((10,10))\n",
    "b = np.random.sample((10,10))"
   ]
  },
  {
   "cell_type": "markdown",
   "metadata": {},
   "source": [
    "Выведите размерность (ранг) каждой матрицы с помощью функции ```ndim```.\n",
    "Используйте функцию ```shape```, что она вывела?"
   ]
  },
  {
   "cell_type": "code",
   "execution_count": null,
   "metadata": {
    "collapsed": true
   },
   "outputs": [],
   "source": [
    "# Ваш код"
   ]
  },
  {
   "cell_type": "markdown",
   "metadata": {},
   "source": [
    "Теперь попробуйте реализовать перемножение матриц. Правила, по которым происходит перемножение, смотрите выше."
   ]
  },
  {
   "cell_type": "code",
   "execution_count": null,
   "metadata": {
    "collapsed": true
   },
   "outputs": [],
   "source": [
    "def mult(a, b):\n",
    "    # Ваш код\n",
    "    # здесь напишите перемножение матриц без \n",
    "    # использования NumPy и выведите результат \n",
    "    pass"
   ]
  },
  {
   "cell_type": "code",
   "execution_count": null,
   "metadata": {
    "collapsed": true
   },
   "outputs": [],
   "source": [
    "def np_mult(a, b):\n",
    "    # Ваш код\n",
    "    # здесь напишите перемножение матриц с\n",
    "    # использованием NumPy и выведите результат\n",
    "    pass"
   ]
  },
  {
   "cell_type": "code",
   "execution_count": null,
   "metadata": {
    "collapsed": true
   },
   "outputs": [],
   "source": [
    "%%time\n",
    "# засечем время работы функции без NumPy\n",
    "mult(a,b)"
   ]
  },
  {
   "cell_type": "code",
   "execution_count": null,
   "metadata": {
    "collapsed": true
   },
   "outputs": [],
   "source": [
    "%%time\n",
    "# засечем время работы функции с NumPy\n",
    "np_mult(a,b)"
   ]
  },
  {
   "cell_type": "markdown",
   "metadata": {},
   "source": [
    "## Упражнение №6 (5 баллов)\n",
    "\n",
    "Напишите функцию, которая по данной последовательности $\\{A_i\\}_{i=1}^n$ строит последовательность $S_n$, где $S_k = \\frac{A_1 + ... + A_k}{k}$.\n",
    "Аналогично -- с помощью библиотеки NumPy и без нее. Сравните скорость, объясните результат."
   ]
  },
  {
   "cell_type": "code",
   "execution_count": null,
   "metadata": {
    "collapsed": true
   },
   "outputs": [],
   "source": [
    "# Функция, решающая задачу с помощью NumPy\n",
    "def sec_av(A):\n",
    "    # Ваш код\n",
    "    pass"
   ]
  },
  {
   "cell_type": "code",
   "execution_count": null,
   "metadata": {
    "collapsed": true
   },
   "outputs": [],
   "source": [
    "# Функция без NumPy\n",
    "def stupid_sec_av(A):\n",
    "    S = [0 for i in range(len(A))]\n",
    "    for i in range(len(A)):\n",
    "        # Ваш код\n",
    "        pass\n",
    "    for i in range(len(A)):\n",
    "        # Ваш код\n",
    "        pass\n",
    "    return S"
   ]
  },
  {
   "cell_type": "markdown",
   "metadata": {},
   "source": [
    "Зададим некоторую последовательность и проверим ее на ваших функциях. \n",
    "Первая функция должна работать ~ в 50 раз быстрее."
   ]
  },
  {
   "cell_type": "code",
   "execution_count": null,
   "metadata": {
    "collapsed": true
   },
   "outputs": [],
   "source": [
    "A = sps.uniform.rvs(size=10 ** 7) \n",
    "\n",
    "%time S1 = sec_av(A)\n",
    "%time S2 = stupid_sec_av(A)\n",
    "#проверим корректность:\n",
    "np.abs(S1 - S2).sum()"
   ]
  },
  {
   "cell_type": "markdown",
   "metadata": {},
   "source": [
    "## Упражнение №7 (5 баллов)\n",
    "\n",
    "Пусть задан некоторый массив $X$. Надо построить новый массив, где все элементы с нечетными индексами требуется заменить на число $a$ (если оно не указано, то на 1). Все четные элементы исходного массива нужно возвести в куб и записать в обратном порядке относительно позиций этих элементов. Массив $X$ при этом должен остаться без изменений. В конце требуется слить массив $X$ с преобразованным $X$ и вывести в обратном порядке."
   ]
  },
  {
   "cell_type": "code",
   "execution_count": null,
   "metadata": {
    "collapsed": true
   },
   "outputs": [],
   "source": [
    "# функция, решающая задачу с помощью NumPy\n",
    "def transformation(X, a=1):\n",
    "    # Ваш код\n",
    "    return Y"
   ]
  },
  {
   "cell_type": "code",
   "execution_count": null,
   "metadata": {
    "collapsed": true
   },
   "outputs": [],
   "source": [
    "# функция, решающая задачу  без NumPy\n",
    "def stupid_transformation(X):\n",
    "    # Ваш код здесь\n",
    "    return Y"
   ]
  },
  {
   "cell_type": "markdown",
   "metadata": {},
   "source": [
    "Тут код эффективнее примерно в 20 раз. \n",
    "Если вы вдруг соберетесь печатать массив без ```numpy``` — лучше сначала посмотрите на его размер."
   ]
  },
  {
   "cell_type": "code",
   "execution_count": null,
   "metadata": {
    "collapsed": true
   },
   "outputs": [],
   "source": [
    "X = sps.uniform.rvs(size=10 ** 7) \n",
    "\n",
    "%time S1 = transformation(X)\n",
    "%time S2 = stupid_transformation(X)\n",
    "# проверим корректность:\n",
    "np.abs(S1 - S2).sum()"
   ]
  },
  {
   "cell_type": "markdown",
   "metadata": {},
   "source": [
    "Почему методы __NumPy__ оказываются эффективнее?"
   ]
  },
  {
   "cell_type": "markdown",
   "metadata": {},
   "source": [
    "__Ваш ответ:__ _пишите тут_"
   ]
  },
  {
   "cell_type": "markdown",
   "metadata": {},
   "source": [
    "# 4. Задачки"
   ]
  },
  {
   "cell_type": "markdown",
   "metadata": {},
   "source": [
    "### Задача №1. Геометрические фигуры (20 баллов)\n",
    "\n",
    "Первой задачей по машинному зрению будет работа с геометрическими фигурами.   \n",
    "Ваша задача — написать программу, которая посчитает радиус круга, сторону квадрата и катет равнобедренного прямоугольного треугольника, изображенных на картинке. \n",
    "\n",
    "Примеры изображений:\n",
    "<table><tr>\n",
    "    <td> <img src=\"https://c.radikal.ru/c39/1906/6a/aad004bccea2.jpg\" alt=\"Drawing\" style=\"width: 200px;\"/> </td>\n",
    "    <td> <img src=\"https://d.radikal.ru/d34/1906/22/2782a4f8f06a.jpg\" alt=\"Drawing\" style=\"width: 200px;\"/> </td>\n",
    "</tr></table>\n",
    "\n",
    "В каждой отдельной строке строке выведите числа: радиус круга, сторону квадрата, катет треугольнка. Ответ на задачу приведите с точностью до сотых.    \n",
    "Используйте следующий код: ```print(\"\\{:.2f\\}\".format(s))``` , где $s$ — результат.\n",
    "\n",
    "    Input:              Ouput:  \n",
    "```\n",
    "test_image_00.jpg   113.42\n",
    "                    347.00\n",
    "                    407.46\n",
    "```\n",
    "\n",
    "```\n",
    "test_image_01.jpg   156.72\n",
    "                    234.00\n",
    "                    413.20\n",
    "```\n",
    "\n",
    "__Важно:__ в данной задаче цвет каждой геометрической фигуры остается неизменным на всех изображениях, т.е. если квадрат красный, то синим он не будет (аналогично с другими фигурами).   \n",
    "\n",
    "Изображения лежат на [яндекс-диске](https://yadi.sk/d/09zGjSeCC81dGA)"
   ]
  },
  {
   "cell_type": "markdown",
   "metadata": {},
   "source": [
    "__Совет:__\n",
    "\n",
    "В дальнейшем мы будем использовать пакет ```opencv```. Можем воспользоваться его функцией чтения картинки, которая переводит ее в массив ```numpy```. Сделать это можно с помощью ```cv2.imread(path)```, где ```path``` — полный путь к файлу. \n",
    "\n",
    "Дальнешая работа с изображением рассматривается, как работа с трехмерным массивом $(n, m, k)$, где $n \\;и\\; m$ — это шириина и высота картинки, $k$ — количество цветов. В нашем случае, $k = 3$. Примечателно, что функция ```cv2.imread(path)``` возвращает массив в кодировке $BGR$."
   ]
  },
  {
   "cell_type": "code",
   "execution_count": null,
   "metadata": {},
   "outputs": [],
   "source": [
    "!pip install opencv-python\n",
    "import cv2\n",
    "\n",
    "import numpy as np\n",
    "import matplotlib.pyplot as plt"
   ]
  },
  {
   "cell_type": "code",
   "execution_count": null,
   "metadata": {},
   "outputs": [],
   "source": [
    "# Ваш код"
   ]
  },
  {
   "cell_type": "markdown",
   "metadata": {},
   "source": [
    "### Задача №2. Лабиринты (20 баллов)\n",
    "\n",
    "Реализуйте алгоритм поиска выхода из лабиринта по растровому изобажению.\n",
    "Вам нужно написать код, который будет находить путь (координаты пикселей) от заданного входа сверху до выхода снизу.\n",
    "\n",
    "Отрисуйте получившийся маршрут на карте с помощью функции ```plot_maze_path(img, coords)```\n",
    "\n",
    "__Input:__\n",
    "\n",
    "Изображение лабиринта в кодировке $RGB$.\n",
    "\n",
    "Все карты лежат на [яндекс-диске](https://yadi.sk/d/qEWVZk2picDdZw)\n",
    "\n",
    "__Ouput:__\n",
    "\n",
    "Массив координат пути через лабиринт в виде ```(np.array(x), np.array(y))```. \n",
    "\n",
    "Оценивается __каждое__ успешное решение лабиринта.\n",
    "Пример решенной задачи.<img src=\"https://b.radikal.ru/b22/1906/56/df991f2221a7.png\" width=\"300\">"
   ]
  },
  {
   "cell_type": "code",
   "execution_count": null,
   "metadata": {
    "collapsed": true
   },
   "outputs": [],
   "source": [
    "# Ваш код"
   ]
  },
  {
   "cell_type": "code",
   "execution_count": null,
   "metadata": {
    "collapsed": true
   },
   "outputs": [],
   "source": [
    "def plot_maze_path(img, coords):\n",
    "    \"\"\"\n",
    "    Функция для изображения пути через лабиринт. \n",
    "    \n",
    "    Для прекращения работы фуниции нажмите `Esc`. \n",
    "    :param img: изображение лабиринта\n",
    "    :param coords: координаты пути через лабиринт\n",
    "    :return img_wpath: исходное изображение с отрисованными координатами \n",
    "    \"\"\"\n",
    "    if len(img.shape) != 3:\n",
    "        img = cv2.cvtColor(img, cv2.COLOR_GRAY2BGR)\n",
    "    x, y = coords\n",
    "    img_wpath = img.copy()\n",
    "    img_wpath[x, y, :] = [0, 0, 255]\n",
    "\n",
    "    # нажмите `Esc`, чтобы выйтие из цикла\n",
    "    while (1):\n",
    "        cv2.imshow('res', img_wpath)\n",
    "        k = cv2.waitKey(5) & 0xFF\n",
    "        if k == 27:\n",
    "            break\n",
    "\n",
    "    cv2.destroyAllWindows()\n",
    "    return img_wpath"
   ]
  },
  {
   "cell_type": "markdown",
   "metadata": {},
   "source": [
    "## Не забудьте прикрепить свое решение [сюда](https://forms.gle/F2tMVBTBczFv1k9J7)"
   ]
  }
 ],
 "metadata": {
  "kernelspec": {
   "display_name": "Python 3",
   "language": "python",
   "name": "python3"
  },
  "language_info": {
   "codemirror_mode": {
    "name": "ipython",
    "version": 3
   },
   "file_extension": ".py",
   "mimetype": "text/x-python",
   "name": "python",
   "nbconvert_exporter": "python",
   "pygments_lexer": "ipython3",
   "version": "3.7.4"
  },
  "latex_envs": {
   "LaTeX_envs_menu_present": true,
   "autoclose": false,
   "autocomplete": true,
   "bibliofile": "biblio.bib",
   "cite_by": "apalike",
   "current_citInitial": 1,
   "eqLabelWithNumbers": true,
   "eqNumInitial": 1,
   "hotkeys": {
    "equation": "Ctrl-E",
    "itemize": "Ctrl-I"
   },
   "labels_anchors": false,
   "latex_user_defs": false,
   "report_style_numbering": false,
   "user_envs_cfg": false
  },
  "varInspector": {
   "cols": {
    "lenName": 16,
    "lenType": 16,
    "lenVar": 40
   },
   "kernels_config": {
    "python": {
     "delete_cmd_postfix": "",
     "delete_cmd_prefix": "del ",
     "library": "var_list.py",
     "varRefreshCmd": "print(var_dic_list())"
    },
    "r": {
     "delete_cmd_postfix": ") ",
     "delete_cmd_prefix": "rm(",
     "library": "var_list.r",
     "varRefreshCmd": "cat(var_dic_list()) "
    }
   },
   "types_to_exclude": [
    "module",
    "function",
    "builtin_function_or_method",
    "instance",
    "_Feature"
   ],
   "window_display": false
  }
 },
 "nbformat": 4,
 "nbformat_minor": 2
}
